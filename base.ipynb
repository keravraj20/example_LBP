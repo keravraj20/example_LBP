{
  "nbformat": 4,
  "nbformat_minor": 0,
  "metadata": {
    "colab": {
      "name": "base.ipynb",
      "provenance": [],
      "authorship_tag": "ABX9TyMe0aAWV+V/9AMOun43jKhi",
      "include_colab_link": true
    },
    "kernelspec": {
      "name": "python3",
      "display_name": "Python 3"
    }
  },
  "cells": [
    {
      "cell_type": "markdown",
      "metadata": {
        "id": "view-in-github",
        "colab_type": "text"
      },
      "source": [
        "<a href=\"https://colab.research.google.com/github/keravraj20/example_LBP/blob/master/base.ipynb\" target=\"_parent\"><img src=\"https://colab.research.google.com/assets/colab-badge.svg\" alt=\"Open In Colab\"/></a>"
      ]
    },
    {
      "cell_type": "code",
      "metadata": {
        "id": "uqfhzPNmvo9J",
        "colab_type": "code",
        "colab": {
          "base_uri": "https://localhost:8080/",
          "height": 34
        },
        "outputId": "19efbb3f-59f2-4e50-8ea9-b2666ab63408"
      },
      "source": [
        "from google.colab import drive\n",
        "drive.mount('/content/drive')"
      ],
      "execution_count": 2,
      "outputs": [
        {
          "output_type": "stream",
          "text": [
            "Mounted at /content/drive\n"
          ],
          "name": "stdout"
        }
      ]
    },
    {
      "cell_type": "markdown",
      "metadata": {
        "id": "sLEPyxfdwF7G",
        "colab_type": "text"
      },
      "source": [
        "# Required Installations\n"
      ]
    },
    {
      "cell_type": "code",
      "metadata": {
        "id": "V4FPjmDsyIt_",
        "colab_type": "code",
        "colab": {
          "base_uri": "https://localhost:8080/",
          "height": 51
        },
        "outputId": "417ea2ef-07da-4089-baf9-5ab5ff868260"
      },
      "source": [
        "!pip install opencv-python"
      ],
      "execution_count": 3,
      "outputs": [
        {
          "output_type": "stream",
          "text": [
            "Requirement already satisfied: opencv-python in /usr/local/lib/python3.6/dist-packages (4.1.2.30)\n",
            "Requirement already satisfied: numpy>=1.11.3 in /usr/local/lib/python3.6/dist-packages (from opencv-python) (1.18.5)\n"
          ],
          "name": "stdout"
        }
      ]
    },
    {
      "cell_type": "code",
      "metadata": {
        "id": "vebTEssWyK9J",
        "colab_type": "code",
        "colab": {
          "base_uri": "https://localhost:8080/",
          "height": 34
        },
        "outputId": "236b1527-c08c-4caa-99e3-103b6cb306d2"
      },
      "source": [
        "!pip install numpy"
      ],
      "execution_count": 4,
      "outputs": [
        {
          "output_type": "stream",
          "text": [
            "Requirement already satisfied: numpy in /usr/local/lib/python3.6/dist-packages (1.18.5)\n"
          ],
          "name": "stdout"
        }
      ]
    },
    {
      "cell_type": "code",
      "metadata": {
        "id": "B9-uUd6YyVMR",
        "colab_type": "code",
        "colab": {
          "base_uri": "https://localhost:8080/",
          "height": 462
        },
        "outputId": "ac101aa8-10c4-41ad-9e9a-282fd58d6e9a"
      },
      "source": [
        "!pip install matlablib"
      ],
      "execution_count": 5,
      "outputs": [
        {
          "output_type": "stream",
          "text": [
            "Collecting matlablib\n",
            "  Downloading https://files.pythonhosted.org/packages/eb/05/1e22fb07743e010e0530ad79002a8805f696581ff19d20aa807251b8e019/matlablib-1.3-py3-none-any.whl\n",
            "Requirement already satisfied: matplotlib in /usr/local/lib/python3.6/dist-packages (from matlablib) (3.2.2)\n",
            "Requirement already satisfied: ipython in /usr/local/lib/python3.6/dist-packages (from matlablib) (5.5.0)\n",
            "Requirement already satisfied: pandas in /usr/local/lib/python3.6/dist-packages (from matlablib) (1.0.5)\n",
            "Requirement already satisfied: pyparsing!=2.0.4,!=2.1.2,!=2.1.6,>=2.0.1 in /usr/local/lib/python3.6/dist-packages (from matplotlib->matlablib) (2.4.7)\n",
            "Requirement already satisfied: python-dateutil>=2.1 in /usr/local/lib/python3.6/dist-packages (from matplotlib->matlablib) (2.8.1)\n",
            "Requirement already satisfied: cycler>=0.10 in /usr/local/lib/python3.6/dist-packages (from matplotlib->matlablib) (0.10.0)\n",
            "Requirement already satisfied: kiwisolver>=1.0.1 in /usr/local/lib/python3.6/dist-packages (from matplotlib->matlablib) (1.2.0)\n",
            "Requirement already satisfied: numpy>=1.11 in /usr/local/lib/python3.6/dist-packages (from matplotlib->matlablib) (1.18.5)\n",
            "Requirement already satisfied: pexpect; sys_platform != \"win32\" in /usr/local/lib/python3.6/dist-packages (from ipython->matlablib) (4.8.0)\n",
            "Requirement already satisfied: pygments in /usr/local/lib/python3.6/dist-packages (from ipython->matlablib) (2.6.1)\n",
            "Requirement already satisfied: prompt-toolkit<2.0.0,>=1.0.4 in /usr/local/lib/python3.6/dist-packages (from ipython->matlablib) (1.0.18)\n",
            "Requirement already satisfied: traitlets>=4.2 in /usr/local/lib/python3.6/dist-packages (from ipython->matlablib) (4.3.3)\n",
            "Requirement already satisfied: setuptools>=18.5 in /usr/local/lib/python3.6/dist-packages (from ipython->matlablib) (50.3.0)\n",
            "Requirement already satisfied: pickleshare in /usr/local/lib/python3.6/dist-packages (from ipython->matlablib) (0.7.5)\n",
            "Requirement already satisfied: decorator in /usr/local/lib/python3.6/dist-packages (from ipython->matlablib) (4.4.2)\n",
            "Requirement already satisfied: simplegeneric>0.8 in /usr/local/lib/python3.6/dist-packages (from ipython->matlablib) (0.8.1)\n",
            "Requirement already satisfied: pytz>=2017.2 in /usr/local/lib/python3.6/dist-packages (from pandas->matlablib) (2018.9)\n",
            "Requirement already satisfied: six>=1.5 in /usr/local/lib/python3.6/dist-packages (from python-dateutil>=2.1->matplotlib->matlablib) (1.15.0)\n",
            "Requirement already satisfied: ptyprocess>=0.5 in /usr/local/lib/python3.6/dist-packages (from pexpect; sys_platform != \"win32\"->ipython->matlablib) (0.6.0)\n",
            "Requirement already satisfied: wcwidth in /usr/local/lib/python3.6/dist-packages (from prompt-toolkit<2.0.0,>=1.0.4->ipython->matlablib) (0.2.5)\n",
            "Requirement already satisfied: ipython-genutils in /usr/local/lib/python3.6/dist-packages (from traitlets>=4.2->ipython->matlablib) (0.2.0)\n",
            "Installing collected packages: matlablib\n",
            "Successfully installed matlablib-1.3\n"
          ],
          "name": "stdout"
        }
      ]
    },
    {
      "cell_type": "markdown",
      "metadata": {
        "id": "BR9kKmxAyrdO",
        "colab_type": "text"
      },
      "source": [
        "# Local Binary Patterns"
      ]
    },
    {
      "cell_type": "markdown",
      "metadata": {
        "id": "rdw43eHyzilf",
        "colab_type": "text"
      },
      "source": [
        "Imports"
      ]
    },
    {
      "cell_type": "code",
      "metadata": {
        "id": "3EW_q8uzwD5z",
        "colab_type": "code",
        "colab": {}
      },
      "source": [
        "import cv2\n",
        "import numpy as np\n",
        "from matplotlib import pyplot as plt"
      ],
      "execution_count": 12,
      "outputs": []
    },
    {
      "cell_type": "markdown",
      "metadata": {
        "id": "9t9YGQZezliB",
        "colab_type": "text"
      },
      "source": [
        "functions required\n"
      ]
    },
    {
      "cell_type": "code",
      "metadata": {
        "id": "0dWgrB46wdz8",
        "colab_type": "code",
        "colab": {}
      },
      "source": [
        "def get_pixel(img, center, x, y):\n",
        "    new_value = 0\n",
        "    try:\n",
        "        if img[x][y] >= center:\n",
        "            new_value = 1\n",
        "    except:\n",
        "        pass\n",
        "    return new_value"
      ],
      "execution_count": 13,
      "outputs": []
    },
    {
      "cell_type": "code",
      "metadata": {
        "id": "9gvgfgEIztO1",
        "colab_type": "code",
        "colab": {}
      },
      "source": [
        "def lbp_calculated_pixel(img, x, y):\n",
        "\n",
        "    center = img[x][y]\n",
        "    val_ar = []\n",
        "    val_ar.append(get_pixel(img, center, x-1, y+1))     # top_right\n",
        "    val_ar.append(get_pixel(img, center, x, y+1))       # right\n",
        "    val_ar.append(get_pixel(img, center, x+1, y+1))     # bottom_right\n",
        "    val_ar.append(get_pixel(img, center, x+1, y))       # bottom\n",
        "    val_ar.append(get_pixel(img, center, x+1, y-1))     # bottom_left\n",
        "    val_ar.append(get_pixel(img, center, x, y-1))       # left\n",
        "    val_ar.append(get_pixel(img, center, x-1, y-1))     # top_left\n",
        "    val_ar.append(get_pixel(img, center, x-1, y))       # top\n",
        "    \n",
        "    power_val = [1, 2, 4, 8, 16, 32, 64, 128]\n",
        "    val = 0\n",
        "    for i in range(len(val_ar)):\n",
        "        val += val_ar[i] * power_val[i]\n",
        "    return val"
      ],
      "execution_count": 14,
      "outputs": []
    },
    {
      "cell_type": "code",
      "metadata": {
        "id": "mnEyUsD-z0lw",
        "colab_type": "code",
        "colab": {}
      },
      "source": [
        "def show_output(output_list):\n",
        "    output_list_len = len(output_list)\n",
        "    figure = plt.figure()\n",
        "    for i in range(output_list_len):\n",
        "        current_dict = output_list[i]\n",
        "        current_img = current_dict[\"img\"]\n",
        "        current_xlabel = current_dict[\"xlabel\"]\n",
        "        current_ylabel = current_dict[\"ylabel\"]\n",
        "        current_xtick = current_dict[\"xtick\"]\n",
        "        current_ytick = current_dict[\"ytick\"]\n",
        "        current_title = current_dict[\"title\"]\n",
        "        current_type = current_dict[\"type\"]\n",
        "        current_plot = figure.add_subplot(1, output_list_len, i+1)\n",
        "        if current_type == \"gray\":\n",
        "            current_plot.imshow(current_img, cmap = plt.get_cmap('gray'))\n",
        "            current_plot.set_title(current_title)\n",
        "            current_plot.set_xticks(current_xtick)\n",
        "            current_plot.set_yticks(current_ytick)\n",
        "            current_plot.set_xlabel(current_xlabel)\n",
        "            current_plot.set_ylabel(current_ylabel)\n",
        "        elif current_type == \"histogram\":\n",
        "            current_plot.plot(current_img, color = \"black\")\n",
        "            current_plot.set_xlim([0,260])\n",
        "            current_plot.set_title(current_title)\n",
        "            current_plot.set_xlabel(current_xlabel)\n",
        "            current_plot.set_ylabel(current_ylabel)            \n",
        "            ytick_list = [int(i) for i in current_plot.get_yticks()]\n",
        "            current_plot.set_yticklabels(ytick_list,rotation = 90)\n",
        "\n",
        "    plt.show()\n"
      ],
      "execution_count": 15,
      "outputs": []
    },
    {
      "cell_type": "code",
      "metadata": {
        "id": "qfSdlD5xz5_j",
        "colab_type": "code",
        "colab": {
          "base_uri": "https://localhost:8080/",
          "height": 312
        },
        "outputId": "c8421959-abb7-4ef5-aa32-4784e4f42f71"
      },
      "source": [
        "def main():\n",
        "    image_file = '/content/drive/My Drive/basepro/lbpimg.jpeg'\n",
        "    img_bgr = cv2.imread(image_file)\n",
        "    height, width, channel = img_bgr.shape\n",
        "    img_gray = cv2.cvtColor(img_bgr, cv2.COLOR_BGR2GRAY)\n",
        "    \n",
        "    img_lbp = np.zeros((height, width,3), np.uint8)\n",
        "    for i in range(0, height):\n",
        "        for j in range(0, width):\n",
        "             img_lbp[i, j] = lbp_calculated_pixel(img_gray, i, j)\n",
        "    hist_lbp = cv2.calcHist([img_lbp], [0], None, [256], [0, 256])\n",
        "    output_list = []\n",
        "    output_list.append({\n",
        "        \"img\": img_gray,\n",
        "        \"xlabel\": \"\",\n",
        "        \"ylabel\": \"\",\n",
        "        \"xtick\": [],\n",
        "        \"ytick\": [],\n",
        "        \"title\": \"Gray Image\",\n",
        "        \"type\": \"gray\"        \n",
        "    })\n",
        "    output_list.append({\n",
        "        \"img\": img_lbp,\n",
        "        \"xlabel\": \"\",\n",
        "        \"ylabel\": \"\",\n",
        "        \"xtick\": [],\n",
        "        \"ytick\": [],\n",
        "        \"title\": \"LBP Image\",\n",
        "        \"type\": \"gray\"\n",
        "    })    \n",
        "    output_list.append({\n",
        "        \"img\": hist_lbp,\n",
        "        \"xlabel\": \"Bins\",\n",
        "        \"ylabel\": \"Number of pixels\",\n",
        "        \"xtick\": None,\n",
        "        \"ytick\": None,\n",
        "        \"title\": \"Histogram(LBP)\",\n",
        "        \"type\": \"histogram\"\n",
        "    })\n",
        "\n",
        "    show_output(output_list)\n",
        "                             \n",
        "    cv2.waitKey(0)\n",
        "    cv2.destroyAllWindows()\n",
        "    print(\"LBP Program is finished\")\n",
        "\n",
        "if __name__ == '__main__':\n",
        "    main()"
      ],
      "execution_count": 19,
      "outputs": [
        {
          "output_type": "display_data",
          "data": {
            "image/png": "[encoded data removed]",
            "text/plain": [
              "<Figure size 432x288 with 3 Axes>"
            ]
          },
          "metadata": {
            "tags": [],
            "needs_background": "light"
          }
        },
        {
          "output_type": "stream",
          "text": [
            "LBP Program is finished\n"
          ],
          "name": "stdout"
        }
      ]
    }
  ]
}